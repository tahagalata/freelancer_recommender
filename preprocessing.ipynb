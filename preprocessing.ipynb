{
 "cells": [
  {
   "cell_type": "code",
   "execution_count": 3,
   "metadata": {},
   "outputs": [],
   "source": [
    "import numpy as np\n",
    "import pandas as pd"
   ]
  },
  {
   "attachments": {},
   "cell_type": "markdown",
   "metadata": {},
   "source": [
    "# Randomize IDs"
   ]
  },
  {
   "cell_type": "code",
   "execution_count": 2,
   "metadata": {},
   "outputs": [],
   "source": [
    "freelancer_pd = pd.read_csv(\"all_freelancers.csv\", delimiter=\"|\")"
   ]
  },
  {
   "cell_type": "code",
   "execution_count": 3,
   "metadata": {},
   "outputs": [
    {
     "data": {
      "text/plain": [
       "1889"
      ]
     },
     "execution_count": 3,
     "metadata": {},
     "output_type": "execute_result"
    }
   ],
   "source": [
    "freelancer_pd.shape[0]"
   ]
  },
  {
   "cell_type": "code",
   "execution_count": 13,
   "metadata": {},
   "outputs": [],
   "source": [
    "freelancer_pd[\"freelancer_id\"] = np.random.choice(a= freelancer_pd.shape[0], size=freelancer_pd.shape[0], replace=False)"
   ]
  },
  {
   "cell_type": "code",
   "execution_count": 15,
   "metadata": {},
   "outputs": [
    {
     "data": {
      "text/html": [
       "<div>\n",
       "<style scoped>\n",
       "    .dataframe tbody tr th:only-of-type {\n",
       "        vertical-align: middle;\n",
       "    }\n",
       "\n",
       "    .dataframe tbody tr th {\n",
       "        vertical-align: top;\n",
       "    }\n",
       "\n",
       "    .dataframe thead th {\n",
       "        text-align: right;\n",
       "    }\n",
       "</style>\n",
       "<table border=\"1\" class=\"dataframe\">\n",
       "  <thead>\n",
       "    <tr style=\"text-align: right;\">\n",
       "      <th></th>\n",
       "      <th>freelancer_id</th>\n",
       "      <th>location</th>\n",
       "      <th>success_rate</th>\n",
       "      <th>badge</th>\n",
       "      <th>t_earnings</th>\n",
       "      <th>t_jobs</th>\n",
       "      <th>t_hours</th>\n",
       "      <th>hours_per_week</th>\n",
       "      <th>languages</th>\n",
       "      <th>profile_title</th>\n",
       "      <th>hourly_rate</th>\n",
       "      <th>skills</th>\n",
       "      <th>profile_link</th>\n",
       "    </tr>\n",
       "  </thead>\n",
       "  <tbody>\n",
       "    <tr>\n",
       "      <th>0</th>\n",
       "      <td>488</td>\n",
       "      <td>Beijing, China</td>\n",
       "      <td>97%</td>\n",
       "      <td>TOP RATED</td>\n",
       "      <td>$60K+</td>\n",
       "      <td>109</td>\n",
       "      <td>2,339</td>\n",
       "      <td>More than 30 hrs/week</td>\n",
       "      <td>English: Native or Bilingual</td>\n",
       "      <td>Certified Public Accountant (CPA)</td>\n",
       "      <td>$45.00/hr</td>\n",
       "      <td>/Accounting Deliverables,Month-End Close Assis...</td>\n",
       "      <td>https://www.upwork.com/freelancers/~01bc2856b4...</td>\n",
       "    </tr>\n",
       "    <tr>\n",
       "      <th>1</th>\n",
       "      <td>1102</td>\n",
       "      <td>Lahore, Pakistan</td>\n",
       "      <td>100%</td>\n",
       "      <td>TOP RATED</td>\n",
       "      <td>NaN</td>\n",
       "      <td>132</td>\n",
       "      <td>6,638</td>\n",
       "      <td>More than 30 hrs/week</td>\n",
       "      <td>English: Native or Bilingual,Urdu: Fluent</td>\n",
       "      <td>Bookkeeper (Expert in Quickbooks, XERO, &amp; Wave...</td>\n",
       "      <td>$20.00/hr</td>\n",
       "      <td>NaN</td>\n",
       "      <td>https://www.upwork.com/freelancers/~01ccdc5baf...</td>\n",
       "    </tr>\n",
       "    <tr>\n",
       "      <th>2</th>\n",
       "      <td>1504</td>\n",
       "      <td>Lodz, Poland</td>\n",
       "      <td>100%</td>\n",
       "      <td>NaN</td>\n",
       "      <td>NaN</td>\n",
       "      <td>31</td>\n",
       "      <td>127</td>\n",
       "      <td>More than 30 hrs/week</td>\n",
       "      <td>English: Fluent,Polish: Native or Bilingual,Ch...</td>\n",
       "      <td>ACCA Accountant specializing in company format...</td>\n",
       "      <td>$50.00/hr</td>\n",
       "      <td>/Other Skills,Company Registration</td>\n",
       "      <td>https://www.upwork.com/freelancers/~01e62b7d3a...</td>\n",
       "    </tr>\n",
       "    <tr>\n",
       "      <th>3</th>\n",
       "      <td>768</td>\n",
       "      <td>Lala Musa, Pakistan</td>\n",
       "      <td>97%</td>\n",
       "      <td>TOP RATED</td>\n",
       "      <td>NaN</td>\n",
       "      <td>46</td>\n",
       "      <td>1,010</td>\n",
       "      <td>More than 30 hrs/week</td>\n",
       "      <td>English: Fluent,Urdu: Native or Bilingual,Hind...</td>\n",
       "      <td>Accounting &amp; Financial Reporting Expert | Reco...</td>\n",
       "      <td>$30.00/hr</td>\n",
       "      <td>/Accounting Deliverables,Presentations,Month-E...</td>\n",
       "      <td>https://www.upwork.com/fl/~019f885f595c64bb48?...</td>\n",
       "    </tr>\n",
       "    <tr>\n",
       "      <th>4</th>\n",
       "      <td>1609</td>\n",
       "      <td>Santiago, Philippines</td>\n",
       "      <td>100%</td>\n",
       "      <td>TOP RATED PLUS</td>\n",
       "      <td>$30K+</td>\n",
       "      <td>5</td>\n",
       "      <td>3,424</td>\n",
       "      <td>As Needed - Open to Offers</td>\n",
       "      <td>English: Conversational</td>\n",
       "      <td>I'm a Quick learner, hard working and dedicate...</td>\n",
       "      <td>$5.00/hr</td>\n",
       "      <td>/Accounting Skills,Oracle Accounting,Tax Code,...</td>\n",
       "      <td>https://www.upwork.com/freelancers/~01dea6d9e2...</td>\n",
       "    </tr>\n",
       "  </tbody>\n",
       "</table>\n",
       "</div>"
      ],
      "text/plain": [
       "   freelancer_id               location success_rate           badge  \\\n",
       "0            488         Beijing, China          97%       TOP RATED   \n",
       "1           1102       Lahore, Pakistan         100%       TOP RATED   \n",
       "2           1504           Lodz, Poland         100%             NaN   \n",
       "3            768    Lala Musa, Pakistan          97%       TOP RATED   \n",
       "4           1609  Santiago, Philippines         100%  TOP RATED PLUS   \n",
       "\n",
       "  t_earnings t_jobs t_hours              hours_per_week  \\\n",
       "0      $60K+    109   2,339       More than 30 hrs/week   \n",
       "1        NaN    132   6,638       More than 30 hrs/week   \n",
       "2        NaN     31     127       More than 30 hrs/week   \n",
       "3        NaN     46   1,010       More than 30 hrs/week   \n",
       "4      $30K+      5   3,424  As Needed - Open to Offers   \n",
       "\n",
       "                                           languages  \\\n",
       "0                       English: Native or Bilingual   \n",
       "1          English: Native or Bilingual,Urdu: Fluent   \n",
       "2  English: Fluent,Polish: Native or Bilingual,Ch...   \n",
       "3  English: Fluent,Urdu: Native or Bilingual,Hind...   \n",
       "4                            English: Conversational   \n",
       "\n",
       "                                       profile_title hourly_rate  \\\n",
       "0                  Certified Public Accountant (CPA)   $45.00/hr   \n",
       "1  Bookkeeper (Expert in Quickbooks, XERO, & Wave...   $20.00/hr   \n",
       "2  ACCA Accountant specializing in company format...   $50.00/hr   \n",
       "3  Accounting & Financial Reporting Expert | Reco...   $30.00/hr   \n",
       "4  I'm a Quick learner, hard working and dedicate...    $5.00/hr   \n",
       "\n",
       "                                              skills  \\\n",
       "0  /Accounting Deliverables,Month-End Close Assis...   \n",
       "1                                                NaN   \n",
       "2                 /Other Skills,Company Registration   \n",
       "3  /Accounting Deliverables,Presentations,Month-E...   \n",
       "4  /Accounting Skills,Oracle Accounting,Tax Code,...   \n",
       "\n",
       "                                        profile_link  \n",
       "0  https://www.upwork.com/freelancers/~01bc2856b4...  \n",
       "1  https://www.upwork.com/freelancers/~01ccdc5baf...  \n",
       "2  https://www.upwork.com/freelancers/~01e62b7d3a...  \n",
       "3  https://www.upwork.com/fl/~019f885f595c64bb48?...  \n",
       "4  https://www.upwork.com/freelancers/~01dea6d9e2...  "
      ]
     },
     "execution_count": 15,
     "metadata": {},
     "output_type": "execute_result"
    }
   ],
   "source": [
    "freelancer_pd.head()"
   ]
  },
  {
   "cell_type": "code",
   "execution_count": 16,
   "metadata": {},
   "outputs": [],
   "source": [
    "freelancer_pd.to_csv(\"edited_freelancers.csv\", sep=\"|\", na_rep=\"\", index=False)"
   ]
  }
 ],
 "metadata": {
  "kernelspec": {
   "display_name": "base",
   "language": "python",
   "name": "python3"
  },
  "language_info": {
   "codemirror_mode": {
    "name": "ipython",
    "version": 3
   },
   "file_extension": ".py",
   "mimetype": "text/x-python",
   "name": "python",
   "nbconvert_exporter": "python",
   "pygments_lexer": "ipython3",
   "version": "3.10.9"
  },
  "orig_nbformat": 4
 },
 "nbformat": 4,
 "nbformat_minor": 2
}
